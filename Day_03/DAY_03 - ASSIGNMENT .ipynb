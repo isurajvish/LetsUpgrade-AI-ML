{
 "cells": [
  {
   "cell_type": "code",
   "execution_count": 9,
   "metadata": {},
   "outputs": [
    {
     "name": "stdout",
     "output_type": "stream",
     "text": [
      "Subtraction of (3+8j)  and  (4+5j)  eqaul to (-1+3j)\n"
     ]
    }
   ],
   "source": [
    "#Question 1 :Write a program to subtract two complex numbers in Python.\n",
    "\n",
    "a=3+8j\n",
    "b=4+5j\n",
    "c=a-b\n",
    "print(\"Subtraction of\",a, \" and \",b, \" eqaul to\",c)\n"
   ]
  },
  {
   "cell_type": "code",
   "execution_count": 17,
   "metadata": {},
   "outputs": [
    {
     "name": "stdout",
     "output_type": "stream",
     "text": [
      "Fourth root of 8 = 1.681792830507429\n"
     ]
    }
   ],
   "source": [
    "#Question 2 :Write a program to find the fourth root of a number.\n",
    "\n",
    "n=8\n",
    "fourth_root=n**(1/4)\n",
    "print(\"Fourth root of\",n ,\"=\",fourth_root)"
   ]
  },
  {
   "cell_type": "code",
   "execution_count": 19,
   "metadata": {},
   "outputs": [
    {
     "name": "stdout",
     "output_type": "stream",
     "text": [
      "Before Swaping a= 5  b= 4\n",
      "After Swaping\n",
      "a= 4\n",
      "b= 5\n"
     ]
    }
   ],
   "source": [
    "#Question 3:Write a program to swap two numbers in Python with the help of a temporary variable\n",
    "\n",
    "a=5\n",
    "b=4\n",
    "print(\"Before Swaping a=\",a,\" b=\",b)\n",
    "c=a\n",
    "a=b\n",
    "b=c\n",
    "print(\"After Swaping\")\n",
    "print(\"a=\",a)\n",
    "print(\"b=\",b)"
   ]
  },
  {
   "cell_type": "code",
   "execution_count": 18,
   "metadata": {},
   "outputs": [
    {
     "name": "stdout",
     "output_type": "stream",
     "text": [
      "Before Swaping a= 8  b= 7\n",
      "After Swaping\n",
      "a= 7\n",
      "b= 8\n"
     ]
    }
   ],
   "source": [
    "#Question 4:Write a program to swap two numbers in Python without using a temporary variable\n",
    "\n",
    "e=8\n",
    "f=7\n",
    "print(\"Before Swaping a=\",e,\" b=\",f)\n",
    "e,f=f,e\n",
    "print(\"After Swaping\")\n",
    "print(\"a=\",e)\n",
    "print(\"b=\",f)"
   ]
  },
  {
   "cell_type": "code",
   "execution_count": 31,
   "metadata": {},
   "outputs": [
    {
     "name": "stdout",
     "output_type": "stream",
     "text": [
      "100 Fahrenheit= 311.27777777777777 kelvin\n",
      "100 Fahrenheit= 37.77777777777778 celsius\n"
     ]
    }
   ],
   "source": [
    "#Question 5:Write a program to convert fahrenheit to kelvin and celsius both\n",
    "\n",
    "F=100\n",
    "K = 273.5 + ((F - 32.0) * (5.0/9.0))\n",
    "C = ((F- 32) * (5/9))\n",
    "\n",
    "print(F,\"Fahrenheit=\",K,\"kelvin\")\n",
    "print(F,\"Fahrenheit=\",C,\"celsius\")\n"
   ]
  },
  {
   "cell_type": "code",
   "execution_count": 32,
   "metadata": {},
   "outputs": [
    {
     "name": "stdout",
     "output_type": "stream",
     "text": [
      "Datatype of a is <class 'int'>\n",
      "Datatype of b is <class 'float'>\n",
      "Datatype of str is <class 'str'>\n",
      "Datatype of g is <class 'complex'>\n"
     ]
    }
   ],
   "source": [
    "#Question 6:Write a program to demonstrate all the available data types in Python. Hint: Use type() function.\n",
    "\n",
    "a=10\n",
    "b=15.23\n",
    "str=\"Hello World\"\n",
    "g=3+4j\n",
    "print(\"Datatype of a is\",type(a))\n",
    "print(\"Datatype of b is\",type(b))\n",
    "print(\"Datatype of str is\",type(str))\n",
    "print(\"Datatype of g is\",type(g))"
   ]
  },
  {
   "cell_type": "markdown",
   "metadata": {},
   "source": [
    "Question 7:Create a Markdown cell in jupyter and list the steps discussed in the session by Dr. DarshanIngle sir \n",
    "to create Github profile and upload Githubs Assignment link.\n",
    "\n",
    "STEP 1: login into Github\n",
    "STEP 2: Create new repositery with name LetsUpgrade AI-ML\n",
    "STEP 3: Click on upload an existing file\n",
    "STEP 4: Drag/browse assignment file into that\n",
    "STEP 5: Click on commit changes\n",
    "STep 6: After uploading assignment file share the link of Github to LetUpgrade form\n",
    "\n"
   ]
  },
  {
   "cell_type": "code",
   "execution_count": null,
   "metadata": {},
   "outputs": [],
   "source": []
  }
 ],
 "metadata": {
  "kernelspec": {
   "display_name": "Python 3",
   "language": "python",
   "name": "python3"
  },
  "language_info": {
   "codemirror_mode": {
    "name": "ipython",
    "version": 3
   },
   "file_extension": ".py",
   "mimetype": "text/x-python",
   "name": "python",
   "nbconvert_exporter": "python",
   "pygments_lexer": "ipython3",
   "version": "3.8.1"
  }
 },
 "nbformat": 4,
 "nbformat_minor": 4
}

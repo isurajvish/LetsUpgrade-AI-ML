{
 "cells": [
  {
   "cell_type": "code",
   "execution_count": 21,
   "metadata": {},
   "outputs": [
    {
     "name": "stdout",
     "output_type": "stream",
     "text": [
      "Addition of (3+5j) and (2+8j) = (5+13j)\n",
      "Subtraction of (3+5j) and (2+8j) = (1-3j)\n",
      "Multiplication of (3+5j) and (2+8j) = (-34+34j)\n",
      "Division of (3+5j) and (2+8j) = (0.6764705882352942-0.20588235294117646j)\n",
      "Modulo is not possible with complex numbers\n",
      "Floor division is not possible with complex numbers\n"
     ]
    }
   ],
   "source": [
    "#Complex Number \n",
    "\n",
    "a=3+5j\n",
    "b=2+8j\n",
    "c=a+b\n",
    "d=a-b\n",
    "e=a*b\n",
    "f=a/b\n",
    "#g=a%b\n",
    "#h=a//b\n",
    "print(\"Addition of\",a,\"and\",b,\"=\",c)\n",
    "print(\"Subtraction of\",a,\"and\",b,\"=\",d)\n",
    "print(\"Multiplication of\",a,\"and\",b,\"=\",e)\n",
    "print(\"Division of\",a,\"and\",b,\"=\",f)\n",
    "print(\"Modulo is not possible with complex numbers\")\n",
    "print(\"Floor division is not possible with complex numbers\")"
   ]
  },
  {
   "cell_type": "markdown",
   "metadata": {},
   "source": [
    "### range() functions\n",
    "\n",
    "1. range() function is inbuilt python function\n",
    "2. it genrate interger numbers between given start integer to stop integer\n",
    "3. by default start interger number in range() function is'0'\n",
    "4. range(a,b) where a= from where you want to genrate integer e.g 0,2,8  b= upto which integer ypu want to genrate \n",
    "                    \n",
    " "
   ]
  },
  {
   "cell_type": "code",
   "execution_count": 23,
   "metadata": {},
   "outputs": [
    {
     "name": "stdout",
     "output_type": "stream",
     "text": [
      "0\n",
      "1\n",
      "2\n",
      "3\n",
      "4\n"
     ]
    }
   ],
   "source": [
    "for i in range(5):  # By default it start's with 0\n",
    "    print(i)"
   ]
  },
  {
   "cell_type": "code",
   "execution_count": 31,
   "metadata": {},
   "outputs": [
    {
     "name": "stdout",
     "output_type": "stream",
     "text": [
      "As Subtraction of 23 and 15 is greater than 25 , then Division of 23 and 15 = 1.5333333333333334\n"
     ]
    }
   ],
   "source": [
    "a=23\n",
    "b=15\n",
    "c=a-b\n",
    "if c>25:\n",
    "    print(\"As Subtraction of\",a,\"and\",b,\"is less than 25\",\", then multiplication of\",a,\"and\",b,\"=\",a*b)\n",
    "else:\n",
    "    print(\"As Subtraction of\",a,\"and\",b,\"is greater than 25\",\", then Division of\",a,\"and\",b,\"=\",a/b)"
   ]
  },
  {
   "cell_type": "code",
   "execution_count": 34,
   "metadata": {},
   "outputs": [
    {
     "name": "stdout",
     "output_type": "stream",
     "text": [
      "square of that number minus 2\n",
      "square of that number minus 2\n",
      "square of that number minus 2\n",
      "square of that number minus 2\n",
      "square of that number minus 2\n",
      "square of that number minus 2\n"
     ]
    }
   ],
   "source": [
    "l=[10,20,30,41,51,60,71,80,100]\n",
    "for i in l:\n",
    "    if i%2==0:\n",
    "        print(\"square of that number minus 2\")"
   ]
  },
  {
   "cell_type": "code",
   "execution_count": 38,
   "metadata": {},
   "outputs": [
    {
     "name": "stdout",
     "output_type": "stream",
     "text": [
      "56\n",
      "26\n",
      "78\n",
      "99\n",
      "22\n",
      "20\n"
     ]
    }
   ],
   "source": [
    "li=[12,56,14,3,26,78,99,22,5,20]\n",
    "for i in li:\n",
    "    if i/2 > 7:\n",
    "        print(i)"
   ]
  },
  {
   "cell_type": "code",
   "execution_count": null,
   "metadata": {},
   "outputs": [],
   "source": []
  }
 ],
 "metadata": {
  "kernelspec": {
   "display_name": "Python 3",
   "language": "python",
   "name": "python3"
  },
  "language_info": {
   "codemirror_mode": {
    "name": "ipython",
    "version": 3
   },
   "file_extension": ".py",
   "mimetype": "text/x-python",
   "name": "python",
   "nbconvert_exporter": "python",
   "pygments_lexer": "ipython3",
   "version": "3.8.1"
  }
 },
 "nbformat": 4,
 "nbformat_minor": 4
}
